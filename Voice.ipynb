{
  "nbformat": 4,
  "nbformat_minor": 0,
  "metadata": {
    "colab": {
      "name": "Untitled2.ipynb",
      "provenance": [],
      "authorship_tag": "ABX9TyOJd46XQs7VdPSrBk6SX0gm",
      "include_colab_link": true
    },
    "kernelspec": {
      "name": "python3",
      "display_name": "Python 3"
    },
    "language_info": {
      "name": "python"
    }
  },
  "cells": [
    {
      "cell_type": "markdown",
      "metadata": {
        "id": "view-in-github",
        "colab_type": "text"
      },
      "source": [
        "<a href=\"https://colab.research.google.com/github/prudhvitalluri/Information_Recommender_Systems/blob/main/Voice.ipynb\" target=\"_parent\"><img src=\"https://colab.research.google.com/assets/colab-badge.svg\" alt=\"Open In Colab\"/></a>"
      ]
    },
    {
      "cell_type": "code",
      "source": [
        "pip install playsound"
      ],
      "metadata": {
        "id": "teGcaCMf63cG"
      },
      "execution_count": 10,
      "outputs": []
    },
    {
      "cell_type": "code",
      "execution_count": 10,
      "metadata": {
        "id": "-TL9eHBy6fnl"
      },
      "outputs": [],
      "source": [
        "from time import ctime\n",
        "\n",
        "import webbrowser as wb\n",
        "import time\n",
        "from playsound import playsound\n",
        "import os\n",
        "import random\n",
        "from gtts import gTTS\n",
        "\n",
        "import speech_recognition as sr\n",
        "\n",
        "r = sr.Recognizer()\n",
        "\n",
        "def record_audio(ask=False):\n",
        "    with sr.Microphone() as source:\n",
        "        if ask:\n",
        "            pru_speak(ask)\n",
        "        audio = r.listen(source)\n",
        "        voice_data=''\n",
        "        try:\n",
        "            voice_data = r.recognize_google(audio)\n",
        "\n",
        "        except sr.UnknownValueError:\n",
        "            pru_speak('unknown Value')\n",
        "        except sr.RequestError:\n",
        "            pru_speak('Speech service is down')\n",
        "        return voice_data\n",
        "\n",
        "def pru_speak(audio_string):\n",
        "    tts = gTTS(text=audio_string, lang='en')\n",
        "    r = random.randint(1,1000000)\n",
        "    audio_file='audio-'+str(r)+ '.mp3'\n",
        "    tts.save(audio_file)\n",
        "    playsound.playsound(audio_file)\n",
        "    print(audio_string)\n",
        "    os.remove(audio_file)\n",
        "\n",
        "def respond(voice_data):\n",
        "    if 'what is your name' in voice_data:\n",
        "        pru_speak('pru_speak')\n",
        "    if 'what time is it' in voice_data:\n",
        "        pru_speak(ctime())\n",
        "    if 'search' in voice_data:\n",
        "        search = record_audio('what do you want to search for')\n",
        "        url = 'https://google.com/search?q=' + search\n",
        "        wb.get().open(url)\n",
        "        pru_speak('Here is what i found ' + search)\n",
        "    if \"can you search for location\" in voice_data:\n",
        "        search = record_audio('what do you want to search for')\n",
        "        url = 'https://www.google.co.in/maps?q=' + search +'/&amd'\n",
        "        wb.get().open(url)\n",
        "        pru_speak('Here is what i found ' + search)\n",
        "    if 'exit' in voice_data:\n",
        "        exit()\n",
        "\n",
        "time.sleep(1)\n",
        "pru_speak('How can I Help you?')\n",
        "while 1:\n",
        "    voice_data = record_audio()\n",
        "    respond(voice_data)"
      ]
    }
  ]
}